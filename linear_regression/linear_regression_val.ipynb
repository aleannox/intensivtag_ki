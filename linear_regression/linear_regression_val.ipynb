{
 "cells": [
  {
   "cell_type": "markdown",
   "metadata": {},
   "source": [
    "# Intensivtag KI: Hands-On Linear Regression\n",
    "### Optimize Polynomial Degree on Validation Set"
   ]
  },
  {
   "cell_type": "code",
   "execution_count": null,
   "metadata": {},
   "outputs": [],
   "source": [
    "import numpy as np\n",
    "\n",
    "import matplotlib.pyplot as plt\n",
    "\n",
    "from linear_regression_utils import load_data, mae, train_val_test_split, train_model, evaluate_model_val"
   ]
  },
  {
   "cell_type": "code",
   "execution_count": null,
   "metadata": {},
   "outputs": [],
   "source": [
    "test_size = 0.25\n",
    "val_size = 0.25\n",
    "\n",
    "x, y = load_data()\n",
    "x_train, y_train, x_val, y_val, x_test, y_test = train_val_test_split(x, y, test_size, val_size)"
   ]
  },
  {
   "cell_type": "code",
   "execution_count": null,
   "metadata": {},
   "outputs": [],
   "source": [
    "train_mae = {}\n",
    "val_mae = {}\n",
    "\n",
    "for degree in range(10):\n",
    "    model = train_model(x_train, y_train, degree)\n",
    "    train_mae[degree] = mae(model(x_train), y_train)\n",
    "    val_mae[degree] = mae(model(x_val), y_val)\n",
    "\n",
    "plt.subplots(figsize=(6, 4))\n",
    "plt.plot(train_mae.keys(), train_mae.values(), label='Trainingsdaten');\n",
    "plt.plot(val_mae.keys(), val_mae.values(), label='Validierungsdaten');\n",
    "plt.ylim([0, max(train_mae.values()) * 2])\n",
    "plt.xlabel('Polynomgrad')\n",
    "plt.ylabel('Mittlerer Fehler (Millarden USD)')\n",
    "plt.legend();\n",
    "\n",
    "final_model = train_model(x_train, y_train, 2)\n",
    "evaluate_model_val(final_model, x_train, y_train, x_val, y_val, x_test, y_test)"
   ]
  }
 ],
 "metadata": {
  "kernelspec": {
   "display_name": "Python 3",
   "language": "python",
   "name": "python3"
  },
  "language_info": {
   "codemirror_mode": {
    "name": "ipython",
    "version": 3
   },
   "file_extension": ".py",
   "mimetype": "text/x-python",
   "name": "python",
   "nbconvert_exporter": "python",
   "pygments_lexer": "ipython3",
   "version": "3.6.5"
  }
 },
 "nbformat": 4,
 "nbformat_minor": 2
}
