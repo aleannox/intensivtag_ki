{
 "cells": [
  {
   "cell_type": "markdown",
   "metadata": {},
   "source": [
    "## Download and Prepare Images"
   ]
  },
  {
   "cell_type": "code",
   "execution_count": null,
   "metadata": {},
   "outputs": [],
   "source": [
    "import pathlib\n",
    "import string\n",
    "import warnings\n",
    "import random\n",
    "import shutil\n",
    "\n",
    "from PIL import Image"
   ]
  },
  {
   "cell_type": "code",
   "execution_count": null,
   "metadata": {},
   "outputs": [],
   "source": [
    "# download data\n",
    "\n",
    "!wget https://download.microsoft.com/download/3/E/1/3E1C3F21-ECDB-4869-8368-6DEBA77B919F/kagglecatsanddogs_3367a.zip\n",
    "!rm -rf raw_data ../data/train ../data/val ../data/test\n",
    "!unzip \"kagglecatsanddogs_3367a.zip\" -d raw_data >/dev/null\n",
    "!rm -rf kagglecatsanddogs_3367a.zip"
   ]
  },
  {
   "cell_type": "code",
   "execution_count": null,
   "metadata": {},
   "outputs": [],
   "source": [
    "# directory setup\n",
    "\n",
    "data_dir = pathlib.Path().cwd().parent / 'data'\n",
    "data_dir.mkdir(exist_ok=True)\n",
    "original_dir = pathlib.Path().cwd() / 'raw_data' / 'PetImages'"
   ]
  },
  {
   "cell_type": "code",
   "execution_count": null,
   "metadata": {},
   "outputs": [],
   "source": [
    "# remove invalid images because they break the image data generators\n",
    "\n",
    "with warnings.catch_warnings():\n",
    "    warnings.filterwarnings(\"ignore\", message=\".*EXIF\")\n",
    "    for animal in ['cat', 'dog']:\n",
    "        animal_dir = (original_dir / string.capwords(animal))\n",
    "        imgs = animal_dir.glob('*.jpg')\n",
    "        for img in imgs:\n",
    "            try:\n",
    "                Image.open(img)\n",
    "            except OSError:\n",
    "                img.unlink()\n",
    "        print(f\"valid {animal} images\", len(list(animal_dir.glob('*.jpg'))))"
   ]
  },
  {
   "cell_type": "code",
   "execution_count": null,
   "metadata": {
    "collapsed": true
   },
   "outputs": [],
   "source": [
    "# copy files to train/val/test folders\n",
    "\n",
    "imgs = dict()\n",
    "for animal in ['cat', 'dog']:\n",
    "    imgs[animal] = list((original_dir / string.capwords(animal)).glob('*.jpg'))\n",
    "    random.seed(42)\n",
    "    random.shuffle(imgs[animal])\n",
    "\n",
    "for dataset in ['train', 'val', 'test']:\n",
    "    (data_dir / dataset).mkdir(exist_ok=True)\n",
    "    for animal in ['cat', 'dog']:\n",
    "        cur_dir = (data_dir / dataset / animal)\n",
    "        cur_dir.mkdir(exist_ok=True)\n",
    "        if dataset == 'train':\n",
    "            files = imgs[animal][:10000]\n",
    "        elif dataset == 'val':\n",
    "            files = imgs[animal][10000:11500]\n",
    "        elif dataset == 'test':\n",
    "            files = imgs[animal][11500:]\n",
    "        for file in files:\n",
    "            shutil.copy(file, cur_dir / file.name)\n",
    "        print(len(list(cur_dir.glob('*.jpg'))), \"images in\", cur_dir)"
   ]
  },
  {
   "cell_type": "code",
   "execution_count": null,
   "metadata": {},
   "outputs": [],
   "source": [
    "# clean up\n",
    "\n",
    "!rm -rf raw_data"
   ]
  }
 ],
 "metadata": {
  "kernelspec": {
   "display_name": "Python 3",
   "language": "python",
   "name": "python3"
  },
  "language_info": {
   "codemirror_mode": {
    "name": "ipython",
    "version": 3
   },
   "file_extension": ".py",
   "mimetype": "text/x-python",
   "name": "python",
   "nbconvert_exporter": "python",
   "pygments_lexer": "ipython3",
   "version": "3.6.5"
  }
 },
 "nbformat": 4,
 "nbformat_minor": 2
}
