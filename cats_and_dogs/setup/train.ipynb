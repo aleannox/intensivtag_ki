{
 "cells": [
  {
   "cell_type": "markdown",
   "metadata": {},
   "source": [
    "## Train and Evaluate Classifier"
   ]
  },
  {
   "cell_type": "code",
   "execution_count": null,
   "metadata": {},
   "outputs": [],
   "source": [
    "import pathlib\n",
    "import warnings\n",
    "import pickle\n",
    "import sys\n",
    "\n",
    "from PIL import Image\n",
    "import matplotlib.pyplot as plt\n",
    "import numpy as np\n",
    "from keras.preprocessing.image import ImageDataGenerator\n",
    "\n",
    "sys.path.append('..')  # dirty\n",
    "from cats_and_dogs_utils import construct_model, plot_roc\n",
    "\n",
    "%matplotlib inline"
   ]
  },
  {
   "cell_type": "code",
   "execution_count": null,
   "metadata": {},
   "outputs": [],
   "source": [
    "# set up image data generators for train, val, test\n",
    "\n",
    "data_dir = pathlib.Path().cwd().parent / 'data'\n",
    "\n",
    "train_datagen = ImageDataGenerator(\n",
    "    rescale=1./255,\n",
    "    rotation_range=40,\n",
    "    width_shift_range=0.2,\n",
    "    height_shift_range=0.2,\n",
    "    shear_range=0.2,\n",
    "    zoom_range=0.2,\n",
    "    horizontal_flip=True\n",
    ")\n",
    "\n",
    "val_datagen = ImageDataGenerator(rescale=1./255)\n",
    "\n",
    "test_datagen = ImageDataGenerator(rescale=1./255)\n",
    "\n",
    "batch_size = 128\n",
    "\n",
    "train_generator = train_datagen.flow_from_directory(\n",
    "        data_dir / 'train',\n",
    "        target_size=(150, 150),\n",
    "        batch_size=batch_size,\n",
    "        class_mode='binary'\n",
    ")\n",
    "\n",
    "val_generator = val_datagen.flow_from_directory(\n",
    "        data_dir / 'val',\n",
    "        target_size=(150, 150),\n",
    "        batch_size=batch_size,\n",
    "        class_mode='binary',\n",
    "        shuffle=False\n",
    ")\n",
    "\n",
    "test_generator = test_datagen.flow_from_directory(\n",
    "        data_dir / 'test',\n",
    "        target_size=(150, 150),\n",
    "        batch_size=batch_size,\n",
    "        class_mode='binary',\n",
    "        shuffle=False\n",
    ")"
   ]
  },
  {
   "cell_type": "code",
   "execution_count": null,
   "metadata": {
    "collapsed": true,
    "jupyter": {
     "outputs_hidden": true
    }
   },
   "outputs": [],
   "source": [
    "# define model architecture\n",
    "\n",
    "model = construct_model()"
   ]
  },
  {
   "cell_type": "code",
   "execution_count": null,
   "metadata": {},
   "outputs": [],
   "source": [
    "# train model\n",
    "\n",
    "epochs = 200\n",
    "\n",
    "with warnings.catch_warnings():\n",
    "    warnings.filterwarnings(\"ignore\", message=\".*EXIF\")\n",
    "\n",
    "    history = model.fit_generator(\n",
    "          train_generator,\n",
    "          steps_per_epoch=10000 // batch_size + 1,\n",
    "          epochs=epochs,\n",
    "          validation_data=val_generator,\n",
    "          validation_steps=1500 // batch_size + 1)\n",
    "    \n",
    "    with (data_dir / f'history_{epochs}.pickle').open('wb') as file:\n",
    "        pickle.dump(history.history, file)\n",
    "    \n",
    "    model.save(str(data_dir / f'cats_and_dogs_{epochs}.h5'))"
   ]
  },
  {
   "cell_type": "code",
   "execution_count": null,
   "metadata": {},
   "outputs": [],
   "source": [
    "# plot training history \n",
    "\n",
    "epochs = 200\n",
    "with (data_dir / f'history_{epochs}.pickle').open('rb') as file:\n",
    "    training_history = pickle.load(file)\n",
    "\n",
    "acc = training_history['acc']\n",
    "val_acc = training_history['val_acc']\n",
    "loss = training_history['loss']\n",
    "val_loss = training_history['val_loss']\n",
    "\n",
    "plt.plot(val_acc, color='green', label='Validation accuracy')\n",
    "plt.plot(acc, color='blue', label='Training accuracy')\n",
    "plt.title('Training and validation accuracy')\n",
    "plt.xlabel('Training epoch')\n",
    "plt.legend()\n",
    "\n",
    "plt.figure()\n",
    "plt.plot(val_loss, color='green', label='Validation loss')\n",
    "plt.plot(loss, color='blue', label='Training loss')\n",
    "plt.title('Training and validation loss')\n",
    "plt.xlabel('Training epoch')\n",
    "plt.legend()\n",
    "plt.show()"
   ]
  },
  {
   "cell_type": "code",
   "execution_count": null,
   "metadata": {},
   "outputs": [],
   "source": [
    "# evaluate model on test\n",
    "\n",
    "epochs = 200\n",
    "model.load_weights(data_dir / f'cats_and_dogs_{epochs}.h5')\n",
    "\n",
    "test_data = test_generator\n",
    "test_data_len = 2000\n",
    "\n",
    "imgs = np.array([])\n",
    "labels = np.array([])\n",
    "preds = np.array([])\n",
    "\n",
    "for i, (imgs_batch, labels_batch) in enumerate(test_data):\n",
    "    preds_batch = model.predict(imgs_batch)[:, 0]\n",
    "    if i == 0:\n",
    "        imgs = imgs_batch\n",
    "        labels = labels_batch\n",
    "        preds = preds_batch\n",
    "    else:\n",
    "        imgs = np.concatenate([imgs, imgs_batch], axis=0)\n",
    "        labels = np.concatenate([labels, labels_batch])\n",
    "        preds = np.concatenate([preds, preds_batch])\n",
    "    if i == test_data_len // batch_size:\n",
    "        break\n",
    "\n",
    "plot_roc('', labels, preds)"
   ]
  }
 ],
 "metadata": {
  "kernelspec": {
   "display_name": "Python 3",
   "language": "python",
   "name": "python3"
  },
  "language_info": {
   "codemirror_mode": {
    "name": "ipython",
    "version": 3
   },
   "file_extension": ".py",
   "mimetype": "text/x-python",
   "name": "python",
   "nbconvert_exporter": "python",
   "pygments_lexer": "ipython3",
   "version": "3.6.6"
  }
 },
 "nbformat": 4,
 "nbformat_minor": 4
}
