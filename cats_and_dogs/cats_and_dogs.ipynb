{
 "cells": [
  {
   "cell_type": "markdown",
   "metadata": {},
   "source": [
    "# Intensivtag KI: Hands-On Cats & Dogs\n",
    "### Nachvollziehbarkeit und die Grenzen ''künstlicher Intelligenz''\n",
    "\n",
    "In diesem Praxisteil wollen wir anhand eines Modells das Katzen und Hunde voneinander unterscheiden kann die Nachvollziehbarkeit und die Grenzen von KI-Modellen untersuchen."
   ]
  },
  {
   "cell_type": "markdown",
   "metadata": {},
   "source": [
    "<br /><br />\n",
    "### 1) Importe"
   ]
  },
  {
   "cell_type": "markdown",
   "metadata": {},
   "source": [
    "Software ist nie perfekt. Das gilt auch für <i>Tensorflow</i>, die derzeit führenden Software-Bibliothek für künstliche neuronale Netzwerke, die von Google entwickelt wird. <i>Tensorflow</i> wirft häufig irreführende Fehlermeldungen aus, auch wenn prinzipiell alles OK ist. Der folgende Code dient dazu, diese zu unterbinden."
   ]
  },
  {
   "cell_type": "code",
   "execution_count": null,
   "metadata": {},
   "outputs": [],
   "source": [
    "import os\n",
    "os.environ['TF_CPP_MIN_LOG_LEVEL'] = '3'\n",
    "\n",
    "import warnings\n",
    "warnings.filterwarnings(\"ignore\")\n",
    "\n",
    "import tensorflow\n",
    "tensorflow.compat.v1.logging.set_verbosity(tensorflow.compat.v1.logging.ERROR)"
   ]
  },
  {
   "cell_type": "markdown",
   "metadata": {},
   "source": [
    "Wir importieren jetzt die Bibliotheken, die wir tatsächlich benötigen, sowie einige Hilfsfunktionen, die wir in die Datei <i>cats_and_dogs_utils.py</i> ausgelagert haben. Bei Interesse könnt ihr gerne diese Datei öffnen, um den entsprechenden Code zu sehen."
   ]
  },
  {
   "cell_type": "code",
   "execution_count": null,
   "metadata": {},
   "outputs": [],
   "source": [
    "import pickle\n",
    "import matplotlib.pyplot\n",
    "\n",
    "from cats_and_dogs_utils import construct_model, predict, process_image, attention, capture_image, perfect_animal\n",
    "\n",
    "%matplotlib inline"
   ]
  },
  {
   "cell_type": "markdown",
   "metadata": {},
   "source": [
    "### 2) Das Modell"
   ]
  },
  {
   "cell_type": "markdown",
   "metadata": {},
   "source": [
    "Das Modell, das wir hier untersuchen, ist ein Convolutional Neural Network ('faltendes neuronales Netzwerk') ähnlich zu dem, das ihr bei der Ziffererkennung kennengelernt habt. Es bekommt als Eingabe 150 x 150 Pixel große farbige Bilder und gibt als Ausgabe eine Wahrscheinlichkeit, dass das Bild einen Hund zeigt, an. Wenn diese Wahrscheinlichkeit geringer als 50% ist, interpretieren wir das Bild als eine Katze.\n",
    "\n",
    "Da wir es mit größeren und mehrfarbigen Bildern, sowie einem komplexeren Modell zu tun haben, dauert das Training des Netzwerk deutlich länger, es benötigt mehrere Stunden. Darum überspringen wir das Training und nutzen das fertig trainierte Modell.\n",
    "\n",
    "Wir laden nun die Modellarchitektur sowie die trainierten Modellparameter und zeigen die Modellarchitektur an."
   ]
  },
  {
   "cell_type": "code",
   "execution_count": null,
   "metadata": {},
   "outputs": [],
   "source": [
    "model = construct_model()\n",
    "model.load_weights('data/cats_and_dogs.h5')\n",
    "model.summary()"
   ]
  },
  {
   "cell_type": "markdown",
   "metadata": {},
   "source": [
    "<br><br>\n",
    "Auch wenn wir das Training überspringen, ist es interessant, sich die Trainingshistorie anschauen, die wir aus einer abgespeicherten Datei laden und plotten."
   ]
  },
  {
   "cell_type": "code",
   "execution_count": null,
   "metadata": {},
   "outputs": [],
   "source": [
    "with open('data/history_200.pickle', 'rb') as file:\n",
    "    training_history = pickle.load(file)\n",
    "\n",
    "acc = training_history['acc']\n",
    "val_acc = training_history['val_acc']\n",
    "loss = training_history['loss']\n",
    "val_loss = training_history['val_loss']\n",
    "\n",
    "matplotlib.pyplot.plot(val_acc, color='green', label='Genauigkeit Validierungsdaten')\n",
    "matplotlib.pyplot.plot(acc, color='blue', label='Genauigkeit Trainingsdaten')\n",
    "matplotlib.pyplot.xlabel('Trainingsepoche')\n",
    "matplotlib.pyplot.legend()\n",
    "\n",
    "matplotlib.pyplot.figure()\n",
    "matplotlib.pyplot.plot(val_loss, color='green', label='Kosten Validierungsdaten')\n",
    "matplotlib.pyplot.plot(loss, color='blue', label='Kosten Trainingsdaten')\n",
    "matplotlib.pyplot.xlabel('Trainingsepoche')\n",
    "matplotlib.pyplot.legend()\n",
    "matplotlib.pyplot.show()"
   ]
  },
  {
   "cell_type": "markdown",
   "metadata": {},
   "source": [
    "Das Modell wurde offenbar 200 Epochen lang trainiert und weist am Ende eine Genauigkeit von ca. 90% auf.\n",
    "\n",
    "Auffällig ist, dass die Kurven für die Validerungsdaten sehr stark schwanken. Das liegt daran, dass der Validierungsdatensatz nur aus jeweils 1500 Hunde- und Katzenbildern besteht. Bei dieser vergleichsweise kleinen Datenmenge ist es statistisch sehr wahrscheinlich, dass die Genauigkeit sichtbar besser oder schlechter als der entsprechende Mittelwert des Modells ist.\n",
    "\n",
    "Es fällt ebenfalls auf, dass (im Mittel) kein Overfitting stattfindet. Das liegt unter anderem daran, dass der Trainingsdatensatz, der aus jeweils 10000 Hunde- und Katzenbildern besteht, durch zufällige Drehungen, Verschiebungen, Spiegelungen und Verzerrungen künstlich vergrößert wurde. Eine genügend große Trainingsdatenmenge ist eine Möglichkeit, Overfitting zu vermeiden."
   ]
  },
  {
   "cell_type": "markdown",
   "metadata": {},
   "source": [
    "<br /><br />\n",
    "### 3) Nachvollziehbarkeit und Grenzen der Modellvorhersage"
   ]
  },
  {
   "cell_type": "markdown",
   "metadata": {},
   "source": [
    "Bei komplexen Modellen wie neuronalen Netzwerken ist es oft schwierig, genau nachzuvollziehen, wie das Modell zu einer Vorhersage gelangt, beziehungsweise was es beim Training 'fachlich' tatsächlich gelernt hat. Das ist je nach Anwendungsgebiet natürlich höchst problematisch.\n",
    "\n",
    "Eine vollständige 'Black Box' sind die Modelle aber nicht und es gibt doch einige Möglichkeiten, ihnen 'unter die Haube zu schauen'."
   ]
  },
  {
   "cell_type": "markdown",
   "metadata": {},
   "source": [
    "Wir überprüfen zunächst die Modellvorhersage auf Bildern von drei mehr oder weniger bekannten Tieren aus dem Internet. Ihr könnt gerne weitere Bilder ausprobieren!"
   ]
  },
  {
   "cell_type": "code",
   "execution_count": null,
   "metadata": {},
   "outputs": [],
   "source": [
    "# Url des Bildes\n",
    "grumpy_cat_url = 'https://i.kinja-img.com/gawker-media/image/upload/s--UYWnBrHt--/c_scale,f_auto,fl_progressive,q_80,w_800/wmpvownqus8xwvylswsr.jpg'\n",
    "\n",
    "# Umwandeln des Bildes in ein Format, das das Modell verarbeiten kann\n",
    "grumpy_cat_image = process_image(grumpy_cat_url)\n",
    "\n",
    "# Modellvorhersage\n",
    "predict(model, grumpy_cat_image)"
   ]
  },
  {
   "cell_type": "code",
   "execution_count": null,
   "metadata": {},
   "outputs": [],
   "source": [
    "grumpy_dog_url = 'https://images.fineartamerica.com/images-medium-large-5/grumpy-bulldog-john-daniels.jpg'\n",
    "grumpy_dog_image = process_image(grumpy_dog_url)\n",
    "predict(model, grumpy_dog_image)"
   ]
  },
  {
   "cell_type": "code",
   "execution_count": null,
   "metadata": {},
   "outputs": [],
   "source": [
    "husky_url = 'https://cmeimg-a.akamaihd.net/640/photos.demandstudios.com/getty/article/211/219/104286802.jpg'\n",
    "husky_image = process_image(husky_url)\n",
    "predict(model, husky_image)"
   ]
  },
  {
   "cell_type": "markdown",
   "metadata": {},
   "source": [
    "Bei den ersten beiden Bildern liegt das Modell mit großer Sicherheit richtig, beim letzten total daneben. Warum?\n",
    "\n",
    "Um das nachvollziehen, müssen wir verstehen, was für ein 'Konzept' von Hunden und Katzen das Modell gelernt hat. Eine mögliche Frage, die wir uns stellen können: Wie sieht für das Modell eine perfekte Katze / ein perfekter Hund aus?\n",
    "\n",
    "Es ist möglich künstliche Bilder zu erzeugen, bei denen das Modell sozusagen 'voll anschlägt'. Um eine künstliche 'perfekte Katze' zu erzeugen nimmt man ein Startbild und 'mutiert' es so lange, bis der 'Katzenscore' des Modells maximal wird. Das Ergebnis, mit Rauschen als Startbild, sieht so aus:"
   ]
  },
  {
   "cell_type": "code",
   "execution_count": null,
   "metadata": {},
   "outputs": [],
   "source": [
    "perfect_cat = perfect_animal(model, 'cat')\n",
    "matplotlib.pyplot.imshow(perfect_cat)\n",
    "matplotlib.pyplot.axis('off')\n",
    "matplotlib.pyplot.show()"
   ]
  },
  {
   "cell_type": "markdown",
   "metadata": {},
   "source": [
    "Ein perfekter Hund sieht dagegen so aus:"
   ]
  },
  {
   "cell_type": "code",
   "execution_count": null,
   "metadata": {},
   "outputs": [],
   "source": [
    "perfect_dog = perfect_animal(model, 'dog')\n",
    "matplotlib.pyplot.imshow(perfect_dog)\n",
    "matplotlib.pyplot.axis('off')\n",
    "matplotlib.pyplot.show()"
   ]
  },
  {
   "cell_type": "markdown",
   "metadata": {},
   "source": [
    "Aus diesen Bildern können wir die Hypothese ableiten, dass das Modell bei Katzen im wesentlichen auf Augen mit einem Schlitz als Pupille achtet, während es bei Hunden eher auf runde Augen oder die Schnauze achtet.\n",
    "\n",
    "Wir können diese Hypothese mit einer anderen Methode überprüfen. Mit einem Verfahren, dessen Details wir aus Zeitgründen hier auslassen, ist es möglich, die Bereiche eines Bildes hervorzuheben, die für das Modell besonders 'katzenartig' oder 'hundeartig' sind. Es sind gewissermaßen die Bereiche, auf die das Modell besonders aufmerksam schaut.\n",
    "\n",
    "Bei den folgenden Bildern ist zu beachten, dass es nicht so ist, dass das hellere Bild 'gewinnt'!"
   ]
  },
  {
   "cell_type": "code",
   "execution_count": null,
   "metadata": {},
   "outputs": [],
   "source": [
    "attention(model, grumpy_dog_image)"
   ]
  },
  {
   "cell_type": "code",
   "execution_count": null,
   "metadata": {},
   "outputs": [],
   "source": [
    "attention(model, grumpy_cat_image)"
   ]
  },
  {
   "cell_type": "code",
   "execution_count": null,
   "metadata": {},
   "outputs": [],
   "source": [
    "attention(model, husky_image)"
   ]
  },
  {
   "cell_type": "markdown",
   "metadata": {},
   "source": [
    "Die obigen Bilder passen sehr gut zu unserer Hypothese. Insbesondere hat das Modell offenbar den Strich in der Färbung der Stirn des Huskys als Katzenauge fehlinterpretiert daraus die finale Vorhersage abgeleitet, obwohl es die Hundeaugen und -schnauze auch erkannt hat.\n",
    "\n",
    "Mit diesem Verständnis können wir nun aus einer Katze einen Hund machen und umgekehrt! Dazu überlagern wir einfach stufenweise das Originalbild mit einem 'perfekten' Bild, das aus dem Originalbild mit der oben beschrieben Methode entsteht. Ihr könnt gerne mit den Überlagerungsstufen experimentieren!"
   ]
  },
  {
   "cell_type": "code",
   "execution_count": null,
   "metadata": {},
   "outputs": [],
   "source": [
    "start_image_cat = grumpy_cat_image\n",
    "perfect_dog_2 = perfect_animal(model, 'dog', seed_input=start_image_cat)\n",
    "\n",
    "weights = [0.9, 0.8, 0.5]\n",
    "fig, axs = matplotlib.pyplot.subplots(1, len(weights), figsize=(len(weights) * 5, 5))\n",
    "for i, weight in enumerate(weights):\n",
    "    predict(model, start_image_cat * weight + perfect_dog_2 * (1 - weight), axs[i])"
   ]
  },
  {
   "cell_type": "code",
   "execution_count": null,
   "metadata": {},
   "outputs": [],
   "source": [
    "start_image_dog = grumpy_dog_image\n",
    "perfect_cat_2 = perfect_animal(model, 'cat', seed_input=start_image_dog)\n",
    "\n",
    "weights = [0.9, 0.8, 0.5]\n",
    "fig, axs = matplotlib.pyplot.subplots(1, len(weights), figsize=(len(weights) * 5, 5))\n",
    "for i, weight in enumerate(weights):\n",
    "    predict(model, start_image_dog * weight + perfect_cat_2 * (1 - weight), axs[i])"
   ]
  },
  {
   "cell_type": "markdown",
   "metadata": {},
   "source": [
    "<br /><br />\n",
    "### 4) Was bist du? :-)"
   ]
  },
  {
   "cell_type": "markdown",
   "metadata": {},
   "source": [
    "Inzwischen ist deutlich geworden, dass das Modell klare Grenzen hat. Eine davon ist natürlich die Tatsache, dass es jedes Bild entweder als Katze oder als Hund interpretiert.\n",
    "\n",
    "Das kannst du jetzt an dir selbst ausprobieren!\n",
    "\n",
    "Mit dem folgenden Code nimmt deine Webcam ein Bild von dir auf. Wenn du den Code ausführst, wird dein Browser dich einmalig fragen, ob du den Zugriff auf deine Webcam erlaubst. Du kannst den Code nach Belieben ausführen um neue Bilder aufzunehmen."
   ]
  },
  {
   "cell_type": "code",
   "execution_count": null,
   "metadata": {},
   "outputs": [],
   "source": [
    "me_captured = capture_image()\n",
    "me_captured"
   ]
  },
  {
   "cell_type": "markdown",
   "metadata": {},
   "source": [
    "Mit deinem Bild kannst du jetzt alle obigen Schritte durchführen!"
   ]
  },
  {
   "cell_type": "code",
   "execution_count": null,
   "metadata": {},
   "outputs": [],
   "source": [
    "# Wenn hier eine Fehlermeldung auftaucht, dann warst du zu schnell. :-)\n",
    "# Die Verarbeitung des Webcam-Bildes kann ein paar Sekunden dauern.\n",
    "# Führe die Zelle dann einfach nochmals aus.\n",
    "\n",
    "me_image = process_image(me_captured)\n",
    "predict(model, me_image)"
   ]
  },
  {
   "cell_type": "code",
   "execution_count": null,
   "metadata": {},
   "outputs": [],
   "source": [
    "attention(model, me_image)"
   ]
  },
  {
   "cell_type": "code",
   "execution_count": null,
   "metadata": {},
   "outputs": [],
   "source": [
    "perfect_dog_3 = perfect_animal(model, 'dog', seed_input=me_image)\n",
    "\n",
    "weights = [0.9, 0.8, 0.5]\n",
    "fig, axs = matplotlib.pyplot.subplots(1, len(weights), figsize=(len(weights) * 5, 5))\n",
    "for i, weight in enumerate(weights):\n",
    "    predict(model, me_image * weight + perfect_dog_3 * (1 - weight), axs[i])"
   ]
  },
  {
   "cell_type": "code",
   "execution_count": null,
   "metadata": {},
   "outputs": [],
   "source": [
    "perfect_cat_3 = perfect_animal(model, 'cat', seed_input=me_image)\n",
    "\n",
    "weights = [0.9, 0.8, 0.5]\n",
    "fig, axs = matplotlib.pyplot.subplots(1, len(weights), figsize=(len(weights) * 5, 5))\n",
    "for i, weight in enumerate(weights):\n",
    "    predict(model, me_image * weight + perfect_cat_3 * (1 - weight), axs[i])"
   ]
  }
 ],
 "metadata": {
  "kernelspec": {
   "display_name": "Python 3",
   "language": "python",
   "name": "python3"
  },
  "language_info": {
   "codemirror_mode": {
    "name": "ipython",
    "version": 3
   },
   "file_extension": ".py",
   "mimetype": "text/x-python",
   "name": "python",
   "nbconvert_exporter": "python",
   "pygments_lexer": "ipython3",
   "version": "3.6.6"
  }
 },
 "nbformat": 4,
 "nbformat_minor": 4
}
