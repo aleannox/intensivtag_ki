{
 "cells": [
  {
   "cell_type": "markdown",
   "metadata": {},
   "source": [
    "# Exercise: Clustering\n",
    "\n",
    "In this exercise you learn how clustering works by looking at some datasets with different clustering methods. \n",
    "\n",
    "**Note:** The code in this notebook might look quite scaring --- but no worries: you can simply run the code, look at the outputs and plots and in some cases use the sliders above the plots to vary the parameters. There is no need to understand every detail of code to solve the exercises."
   ]
  },
  {
   "cell_type": "code",
   "execution_count": 1,
   "metadata": {},
   "outputs": [
    {
     "name": "stderr",
     "output_type": "stream",
     "text": [
      "/home/torsten/anaconda3/lib/python3.7/site-packages/statsmodels/tools/_testing.py:19: FutureWarning: pandas.util.testing is deprecated. Use the functions in the public API at pandas.testing instead.\n",
      "  import pandas.util.testing as tm\n"
     ]
    }
   ],
   "source": [
    "import numpy as np\n",
    "import pandas as pd\n",
    "\n",
    "import matplotlib.pyplot as plt\n",
    "\n",
    "from sklearn.preprocessing import MinMaxScaler, StandardScaler, FunctionTransformer\n",
    "from sklearn.cluster import DBSCAN, KMeans, AgglomerativeClustering\n",
    "from sklearn.decomposition import PCA\n",
    "from sklearn.metrics import silhouette_score, calinski_harabasz_score\n",
    "\n",
    "from ipywidgets import interact\n",
    "import ipywidgets as widgets\n",
    "\n",
    "import seaborn as sns"
   ]
  },
  {
   "cell_type": "markdown",
   "metadata": {},
   "source": [
    "## Compare different clustering methods"
   ]
  },
  {
   "cell_type": "code",
   "execution_count": 2,
   "metadata": {},
   "outputs": [
    {
     "ename": "KeyError",
     "evalue": "'DATASET_PATH'",
     "output_type": "error",
     "traceback": [
      "\u001b[0;31m---------------------------------------------------------------------------\u001b[0m",
      "\u001b[0;31mKeyError\u001b[0m                                  Traceback (most recent call last)",
      "\u001b[0;32m<ipython-input-2-c8e4ccb40e8d>\u001b[0m in \u001b[0;36m<module>\u001b[0;34m\u001b[0m\n\u001b[1;32m      1\u001b[0m \u001b[0;32mimport\u001b[0m \u001b[0mos\u001b[0m\u001b[0;34m\u001b[0m\u001b[0;34m\u001b[0m\u001b[0m\n\u001b[0;32m----> 2\u001b[0;31m \u001b[0mprint\u001b[0m\u001b[0;34m(\u001b[0m\u001b[0mos\u001b[0m\u001b[0;34m.\u001b[0m\u001b[0menviron\u001b[0m\u001b[0;34m[\u001b[0m\u001b[0;34m'DATASET_PATH'\u001b[0m\u001b[0;34m]\u001b[0m\u001b[0;34m)\u001b[0m\u001b[0;34m\u001b[0m\u001b[0;34m\u001b[0m\u001b[0m\n\u001b[0m\u001b[1;32m      3\u001b[0m \u001b[0mdataset_path\u001b[0m \u001b[0;34m=\u001b[0m \u001b[0mos\u001b[0m\u001b[0;34m.\u001b[0m\u001b[0menviron\u001b[0m\u001b[0;34m[\u001b[0m\u001b[0;34m'DATASET_PATH'\u001b[0m\u001b[0;34m]\u001b[0m\u001b[0;34m\u001b[0m\u001b[0;34m\u001b[0m\u001b[0m\n\u001b[1;32m      4\u001b[0m \u001b[0;31m#dataset_path = './data'\u001b[0m\u001b[0;34m\u001b[0m\u001b[0;34m\u001b[0m\u001b[0;34m\u001b[0m\u001b[0m\n",
      "\u001b[0;32m~/anaconda3/lib/python3.7/os.py\u001b[0m in \u001b[0;36m__getitem__\u001b[0;34m(self, key)\u001b[0m\n\u001b[1;32m    676\u001b[0m         \u001b[0;32mexcept\u001b[0m \u001b[0mKeyError\u001b[0m\u001b[0;34m:\u001b[0m\u001b[0;34m\u001b[0m\u001b[0;34m\u001b[0m\u001b[0m\n\u001b[1;32m    677\u001b[0m             \u001b[0;31m# raise KeyError with the original key value\u001b[0m\u001b[0;34m\u001b[0m\u001b[0;34m\u001b[0m\u001b[0;34m\u001b[0m\u001b[0m\n\u001b[0;32m--> 678\u001b[0;31m             \u001b[0;32mraise\u001b[0m \u001b[0mKeyError\u001b[0m\u001b[0;34m(\u001b[0m\u001b[0mkey\u001b[0m\u001b[0;34m)\u001b[0m \u001b[0;32mfrom\u001b[0m \u001b[0;32mNone\u001b[0m\u001b[0;34m\u001b[0m\u001b[0;34m\u001b[0m\u001b[0m\n\u001b[0m\u001b[1;32m    679\u001b[0m         \u001b[0;32mreturn\u001b[0m \u001b[0mself\u001b[0m\u001b[0;34m.\u001b[0m\u001b[0mdecodevalue\u001b[0m\u001b[0;34m(\u001b[0m\u001b[0mvalue\u001b[0m\u001b[0;34m)\u001b[0m\u001b[0;34m\u001b[0m\u001b[0;34m\u001b[0m\u001b[0m\n\u001b[1;32m    680\u001b[0m \u001b[0;34m\u001b[0m\u001b[0m\n",
      "\u001b[0;31mKeyError\u001b[0m: 'DATASET_PATH'"
     ]
    }
   ],
   "source": [
    "import os\n",
    "print(os.environ['DATASET_PATH'])\n",
    "dataset_path = os.environ['DATASET_PATH']\n",
    "#dataset_path = './data'"
   ]
  },
  {
   "cell_type": "code",
   "execution_count": null,
   "metadata": {},
   "outputs": [],
   "source": [
    "df = pd.read_csv(dataset_path+'/cluster_data.csv')\n",
    "\n",
    "def fit_and_plot_clustering(df, clusterer, print_number=False):\n",
    "    df = df.copy()\n",
    "    df['clusterid'] = clusterer.fit_predict(df[['x', 'y']])\n",
    "    n_clusters = df['clusterid'].max() + 1\n",
    "    n_outliers = np.sum(df['clusterid'] == -1)\n",
    "    if print_number:\n",
    "        print(f'number of clusters: {n_clusters}\\nnumber of outliers: {n_outliers}')\n",
    "    cmap = plt.get_cmap('Set1', n_clusters+1)\n",
    "    ax = df.plot(kind='scatter', x='x', y='y', c='clusterid', cmap=cmap, s=80, colorbar=False)\n",
    "    ax.grid()\n",
    "    \n",
    "style = {'description_width': '150px'}\n",
    "layout = widgets.Layout(width='400px')"
   ]
  },
  {
   "cell_type": "markdown",
   "metadata": {},
   "source": [
    "### DBSCAN"
   ]
  },
  {
   "cell_type": "code",
   "execution_count": null,
   "metadata": {},
   "outputs": [],
   "source": [
    "def plot_dbscan(eps = 0.3, min_samples = 10):\n",
    "    dbscan = DBSCAN(eps=eps, min_samples=min_samples)\n",
    "    fit_and_plot_clustering(df, clusterer=dbscan, print_number=True)\n",
    "\n",
    "i = interact(plot_dbscan \n",
    "            , eps=widgets.SelectionSlider(options=np.arange(0.1,1.1,0.1), description='Epsilon', layout=layout, style=style, disabled=False,continuous_update=False,orientation='horizontal',readout=True)\n",
    "            , min_samples=widgets.SelectionSlider(options=range(1, 21), description='Minimum of samples', layout=layout, style=style, disabled=False,continuous_update=False,orientation='horizontal',readout=True)\n",
    "        );"
   ]
  },
  {
   "cell_type": "markdown",
   "metadata": {},
   "source": [
    "**Exercise:**\n",
    "- What are the best parameters to cluster this dataset?"
   ]
  },
  {
   "cell_type": "markdown",
   "metadata": {},
   "source": [
    "### KMeans"
   ]
  },
  {
   "cell_type": "code",
   "execution_count": null,
   "metadata": {},
   "outputs": [],
   "source": [
    "def plot_kmeans(k = 3):\n",
    "    kmeans = KMeans(n_clusters=k)\n",
    "    fit_and_plot_clustering(df, clusterer=kmeans)\n",
    "\n",
    "i = interact(plot_kmeans \n",
    "            , k=widgets.SelectionSlider(options=range(2,20), description='Number of clusters (k)', layout=layout, style=style, disabled=False,continuous_update=False,orientation='horizontal',readout=True)\n",
    "        );"
   ]
  },
  {
   "cell_type": "markdown",
   "metadata": {},
   "source": [
    "#### Best `k` with silhouette value"
   ]
  },
  {
   "cell_type": "code",
   "execution_count": null,
   "metadata": {},
   "outputs": [],
   "source": [
    "sil_values = []\n",
    "for k in range(2,20):\n",
    "    kmeans = KMeans(n_clusters=k)\n",
    "    clust = kmeans.fit_predict(df[['x', 'y']])\n",
    "    sil_values.append(silhouette_score(df[['x', 'y']], clust))\n",
    "\n",
    "fig, ax = plt.subplots()\n",
    "ax.plot(range(2,20),sil_values)\n",
    "ax.set_xlabel('k')\n",
    "ax.set_xticks(range(2,20, 2))\n",
    "ax.set_ylabel('Silhouette value');"
   ]
  },
  {
   "cell_type": "markdown",
   "metadata": {},
   "source": [
    "**Exercise:**\n",
    "- What is the best choice for `k`?\n",
    "- Why is k-means not a good method for this dataset?"
   ]
  },
  {
   "cell_type": "markdown",
   "metadata": {},
   "source": [
    "### Hierarchical clustering"
   ]
  },
  {
   "cell_type": "code",
   "execution_count": null,
   "metadata": {},
   "outputs": [],
   "source": [
    "def plot_hclust(n_clusters = 3, linkage = 'ward'):\n",
    "    hclust = AgglomerativeClustering(n_clusters=n_clusters, linkage = linkage )\n",
    "    fit_and_plot_clustering(df, clusterer=hclust)\n",
    "\n",
    "style = {'description_width': '150px'}\n",
    "layout = widgets.Layout(width='400px')\n",
    "i = interact(plot_hclust \n",
    "            , n_clusters=widgets.SelectionSlider(options=range(2,10),description='Number of clusters', layout=layout, style=style, disabled=False,continuous_update=False,orientation='horizontal',readout=True)\n",
    "            , linkage=widgets.Dropdown(options=['ward', 'complete', 'average', 'single'],description='Number of clusters', layout=layout, style=style, disabled=False,continuous_update=False,orientation='horizontal',readout=True)\n",
    "        );"
   ]
  },
  {
   "cell_type": "markdown",
   "metadata": {},
   "source": [
    "**Exercise:**\n",
    "- What are the best parameters to cluster this dataset?"
   ]
  },
  {
   "cell_type": "markdown",
   "metadata": {},
   "source": [
    "# The Effect of Scaling"
   ]
  },
  {
   "cell_type": "code",
   "execution_count": null,
   "metadata": {},
   "outputs": [],
   "source": [
    "df_scale = pd.read_csv(dataset_path+'/scale_cluster_data.csv')\n",
    "scaler = StandardScaler()\n",
    "scaler.fit(df_scale[['x', 'y']])\n",
    "scaled_data = scaler.transform(df_scale[['x', 'y']])\n",
    "df_scale['scaled_x'] = scaled_data[:,0]\n",
    "df_scale['scaled_y'] = scaled_data[:,1]"
   ]
  },
  {
   "cell_type": "code",
   "execution_count": null,
   "metadata": {},
   "outputs": [],
   "source": [
    "def plot_cluster_scaling(scaler, eps = 0.3, min_samples = 10):\n",
    "    scaled_values = scaler.fit_transform(df_scale[['x','y']])\n",
    "    dbscan = DBSCAN(eps=eps, min_samples=min_samples)\n",
    "    \n",
    "    clust = dbscan.fit_predict(scaled_values)\n",
    "    n_clusters = np.max(clust) + 1\n",
    "    n_outliers = np.sum(clust == -1)\n",
    "    print(f'number of clusters: {n_clusters}\\nnumber of outliers: {n_outliers}')\n",
    "    \n",
    "    plot_df = pd.DataFrame(scaled_values, columns=['x','y'])\n",
    "    cmap = plt.get_cmap('Set1', n_clusters+1)\n",
    "    ax = plot_df.plot(kind='scatter', x='x', y='y', c=clust, cmap=cmap, s=80, colorbar=False, figsize=(8,8))\n",
    "    ax.grid()\n",
    "    \n",
    "    \n",
    "i = interact(plot_cluster_scaling \n",
    "            , scaler=widgets.RadioButtons(options=[('None', FunctionTransformer(validate=False)), ('Z-Transform', StandardScaler()), ('Min-Max', MinMaxScaler())]\n",
    "                                          ,description='Scaler', layout=layout, style=style\n",
    "                                          ,disabled=False,continuous_update=False,orientation='horizontal',readout=True)\n",
    "            , eps=widgets.SelectionSlider(options=np.arange(0.1,1.1,0.1), value=0.4, description='Epsilon', layout=layout, style=style, disabled=False,continuous_update=False,orientation='horizontal',readout=True)\n",
    "            , min_samples=widgets.SelectionSlider(options=range(1, 21), value=10, description='Minimum of samples', layout=layout, style=style, disabled=False,continuous_update=False,orientation='horizontal',readout=True)\n",
    "        );\n",
    "\n"
   ]
  },
  {
   "cell_type": "markdown",
   "metadata": {},
   "source": [
    "**Exercise:**\n",
    "- How does the scaling influence the clustering?\n",
    "- How does the scaling affect the choice of the parameters?"
   ]
  },
  {
   "cell_type": "markdown",
   "metadata": {},
   "source": [
    "# Semantical Evaluation: Customer Segmentation\n",
    "\n",
    "Now we have a look at a \"real\" dataset and see how we can evaluate the different method and parameter choices."
   ]
  },
  {
   "cell_type": "markdown",
   "metadata": {},
   "source": [
    "Let's load the [customer dataset](https://www.kaggle.com/shwetabh123/mall-customers) ..."
   ]
  },
  {
   "cell_type": "code",
   "execution_count": null,
   "metadata": {},
   "outputs": [],
   "source": [
    "df = pd.read_csv(dataset_path+'/Mall_Customers.csv')\n",
    "df.head()"
   ]
  },
  {
   "cell_type": "markdown",
   "metadata": {},
   "source": [
    "... and prepare it for our purpose."
   ]
  },
  {
   "cell_type": "code",
   "execution_count": null,
   "metadata": {},
   "outputs": [],
   "source": [
    "X = df[['Age','Annual Income (k$)','Spending Score (1-100)']].copy()\n",
    "X.columns = ['Age', 'Income', 'Score']\n",
    "X['Gender'] = df['Gender'] == 'Male'\n",
    "X.astype(float).head()"
   ]
  },
  {
   "cell_type": "markdown",
   "metadata": {},
   "source": [
    "## K-Means"
   ]
  },
  {
   "cell_type": "code",
   "execution_count": null,
   "metadata": {},
   "outputs": [],
   "source": [
    "cols = ['Age', 'Income', 'Score', 'Gender']\n",
    "def make_kmeans(attributs=cols, scaler=MinMaxScaler(), pca=False, components=2, k=3, show='features'):\n",
    "    attributs = list(attributs)\n",
    "    scaled_values = scaler.fit_transform(X[attributs])\n",
    "    \n",
    "    components = min(components, len(attributs))\n",
    "    if pca:\n",
    "        values = PCA().fit_transform(scaled_values)[:, :components]\n",
    "    else:\n",
    "        values = scaled_values\n",
    "    \n",
    "    cluster = KMeans(n_clusters=k).fit_predict(values)\n",
    "    \n",
    "    if show == 'features':\n",
    "        df_plot = X.astype(float).copy()\n",
    "    elif show == 'values':\n",
    "        df_plot = pd.DataFrame(values)\n",
    "    \n",
    "    df_plot['cluster'] = cluster\n",
    "        \n",
    "    sns.pairplot(df_plot, hue=\"cluster\", diag_kind = 'hist', diag_kws={'alpha':0.5}\n",
    "                 , vars=[c for c in df_plot.columns if c != 'cluster'] \n",
    "                )\n",
    "\n",
    "\n",
    "style = {'description_width': '150px'}\n",
    "layout = widgets.Layout(width='400px')\n",
    "i = interact(make_kmeans \n",
    "            , attributs=widgets.SelectMultiple(options=cols, value=cols, rows=len(cols)\n",
    "                                          ,description='Features', layout=layout, style=style\n",
    "                                          ,disabled=False,continuous_update=False,orientation='horizontal',readout=True)\n",
    "            , scaler=widgets.RadioButtons(options=[ ('Z-Transform', StandardScaler()), ('Min-Max', MinMaxScaler()), ('None', FunctionTransformer(validate=False))]\n",
    "                                          ,description='Scaler', layout=layout, style=style\n",
    "                                          ,disabled=False,continuous_update=False,orientation='horizontal',readout=True)\n",
    "            , pca=widgets.RadioButtons(options=[('without', False), ('with', True)]\n",
    "                                                  ,description='PCA'\n",
    "                                                  , layout=layout, style=style\n",
    "                                                  ,disabled=False,continuous_update=False,orientation='horizontal',readout=True)\n",
    "            , components=widgets.SelectionSlider(options=range(1, 5), value=4\n",
    "                                                ,description='PCA components'\n",
    "                                                , layout=layout, style=style\n",
    "                                                ,disabled=False,continuous_update=False,orientation='horizontal',readout=True)\n",
    "            , k=widgets.SelectionSlider(options=range(2, 8)\n",
    "                                                ,description='k'\n",
    "                                                , layout=layout, style=style\n",
    "                                                ,disabled=False,continuous_update=False,orientation='horizontal',readout=True)\n",
    "            , show=widgets.RadioButtons(options=[('Features', 'features'), ('Values', 'values')]\n",
    "                                                  ,description='Show'\n",
    "                                                  , layout=layout, style=style\n",
    "                                                  ,disabled=False,continuous_update=False,orientation='horizontal',readout=True)\n",
    "\n",
    "            )"
   ]
  },
  {
   "cell_type": "markdown",
   "metadata": {},
   "source": [
    "**Exercise:**\n",
    "- Can we achieve better result with PCA?\n",
    "- What happens if we remove features from the clustering?\n",
    "- What is the best value for `k`?\n",
    "- How would you name the identified clusters?"
   ]
  },
  {
   "cell_type": "markdown",
   "metadata": {},
   "source": [
    "## DBSCAN"
   ]
  },
  {
   "cell_type": "code",
   "execution_count": null,
   "metadata": {},
   "outputs": [],
   "source": [
    "cols = ['Age', 'Income', 'Score', 'Gender']\n",
    "def make_dbscan(attributs=cols, scaler=MinMaxScaler(), pca=False, components=2, eps=.5, min_samples=5, show='features'):\n",
    "    attributs = list(attributs)\n",
    "    scaled_values = scaler.fit_transform(X[attributs])\n",
    "    \n",
    "    components = min(components, len(attributs))\n",
    "    if pca:\n",
    "        values = PCA().fit_transform(scaled_values)[:, :components]\n",
    "    else:\n",
    "        values = scaled_values\n",
    "    \n",
    "    cluster = DBSCAN(eps=eps, min_samples=min_samples).fit_predict(values)\n",
    "    #cluster = [cm.Dark2.colors[c] for c in cluster]\n",
    "    #print('Silhouette score:', silhouette_score(scaled_values, cluster))\n",
    "    print('Found', 1+np.max(cluster), 'clusters with', np.sum(cluster == -1), 'outliers')\n",
    "    \n",
    "    if show == 'features':\n",
    "        df_plot = X.astype(float).copy()\n",
    "    elif show == 'values':\n",
    "        df_plot = pd.DataFrame(values)\n",
    "    \n",
    "    df_plot['cluster'] = cluster\n",
    "        \n",
    "    sns.pairplot(df_plot, hue=\"cluster\", diag_kind = 'hist', diag_kws={'alpha':0.5}\n",
    "                 , vars=[c for c in df_plot.columns if c != 'cluster'] \n",
    "                )\n",
    "\n",
    "\n",
    "style = {'description_width': '150px'}\n",
    "layout = widgets.Layout(width='400px')\n",
    "i = interact(make_dbscan \n",
    "            , attributs=widgets.SelectMultiple(options=cols, value=cols, rows=len(cols)\n",
    "                                          ,description='Features', layout=layout, style=style\n",
    "                                          ,disabled=False,continuous_update=False,orientation='horizontal',readout=True)\n",
    "            , scaler=widgets.RadioButtons(options=[('Z-Transform', StandardScaler()), ('Min-Max', MinMaxScaler()), ('None', FunctionTransformer(validate=False))]\n",
    "                                          ,description='Scaler', layout=layout, style=style\n",
    "                                          ,disabled=False,continuous_update=False,orientation='horizontal',readout=True)\n",
    "            , pca=widgets.RadioButtons(options=[('without', False), ('with', True)]\n",
    "                                                  ,description='PCA'\n",
    "                                                  , layout=layout, style=style\n",
    "                                                  ,disabled=False,continuous_update=False,orientation='horizontal',readout=True)\n",
    "            , components=widgets.SelectionSlider(options=range(1, 5), value=4\n",
    "                                                ,description='PCA components'\n",
    "                                                , layout=layout, style=style\n",
    "                                                ,disabled=False,continuous_update=False,orientation='horizontal',readout=True)\n",
    "            , eps=widgets.SelectionSlider(options=[.1, .25, .5, .6, .7, .8, .9, 1., 1.25, 1.5, 2.], value = .5\n",
    "                                                ,description='Epsilon'\n",
    "                                                , layout=layout, style=style\n",
    "                                                ,disabled=False,continuous_update=False,orientation='horizontal',readout=True)\n",
    "            , min_samples=widgets.SelectionSlider(options=range(1, 20), value=5\n",
    "                                                ,description='Min. samples'\n",
    "                                                , layout=layout, style=style\n",
    "                                                ,disabled=False,continuous_update=False,orientation='horizontal',readout=True)\n",
    "            , show=widgets.RadioButtons(options=[('Features', 'features'), ('Values', 'values')]\n",
    "                                                  ,description='Show'\n",
    "                                                  , layout=layout, style=style\n",
    "                                                  ,disabled=False,continuous_update=False,orientation='horizontal',readout=True)\n",
    "\n",
    "            )"
   ]
  },
  {
   "cell_type": "markdown",
   "metadata": {},
   "source": [
    "**Exercise:**\n",
    "- Does the clusters found by DBSCAN differ from the clusters found by k-means?\n",
    "- How does the parameters `epsilon` and `min_samples` influence the clusters? What are good values?"
   ]
  },
  {
   "cell_type": "code",
   "execution_count": null,
   "metadata": {},
   "outputs": [],
   "source": []
  },
  {
   "cell_type": "code",
   "execution_count": null,
   "metadata": {},
   "outputs": [],
   "source": []
  }
 ],
 "metadata": {
  "kernelspec": {
   "display_name": "Python 3",
   "language": "python",
   "name": "python3"
  },
  "language_info": {
   "codemirror_mode": {
    "name": "ipython",
    "version": 3
   },
   "file_extension": ".py",
   "mimetype": "text/x-python",
   "name": "python",
   "nbconvert_exporter": "python",
   "pygments_lexer": "ipython3",
   "version": "3.7.4"
  },
  "toc": {
   "base_numbering": 1,
   "nav_menu": {},
   "number_sections": true,
   "sideBar": true,
   "skip_h1_title": false,
   "title_cell": "Table of Contents",
   "title_sidebar": "Contents",
   "toc_cell": false,
   "toc_position": {},
   "toc_section_display": true,
   "toc_window_display": false
  }
 },
 "nbformat": 4,
 "nbformat_minor": 4
}
