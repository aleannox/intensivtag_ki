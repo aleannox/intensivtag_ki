{
 "cells": [
  {
   "cell_type": "markdown",
   "metadata": {},
   "source": [
    "# Einführung in das Clustering mit k-Means"
   ]
  },
  {
   "cell_type": "markdown",
   "metadata": {},
   "source": []
  },
  {
   "cell_type": "markdown",
   "metadata": {},
   "source": [
    "## Laden der Bibliotheken"
   ]
  },
  {
   "cell_type": "code",
   "execution_count": null,
   "metadata": {},
   "outputs": [],
   "source": [
    "import os\n",
    "\n",
    "import numpy as np\n",
    "import pandas as pd\n",
    "\n",
    "import matplotlib.pyplot as plt\n",
    "\n",
    "from sklearn.preprocessing import MinMaxScaler, StandardScaler, FunctionTransformer\n",
    "from sklearn.cluster import DBSCAN, KMeans, AgglomerativeClustering\n",
    "from sklearn.decomposition import PCA\n",
    "from sklearn.metrics import silhouette_score, calinski_harabasz_score\n",
    "\n",
    "from ipywidgets import interact\n",
    "import ipywidgets as widgets\n",
    "\n",
    "import seaborn as snss\n",
    "\n",
    "style = {'description_width': '150px'}\n",
    "layout = widgets.Layout(width='400px')"
   ]
  },
  {
   "cell_type": "code",
   "execution_count": null,
   "metadata": {},
   "outputs": [],
   "source": []
  },
  {
   "cell_type": "markdown",
   "metadata": {},
   "source": [
    "## Vier synthetische Cluster"
   ]
  },
  {
   "cell_type": "markdown",
   "metadata": {},
   "source": [
    "### Generierung und Visualisierung der Daten"
   ]
  },
  {
   "cell_type": "markdown",
   "metadata": {},
   "source": [
    "Um die Funktionsweise des Clusterings zu prüfen, beginnen wir zuerst mit künstlich generierten Daten. Diese werden in vier Clustern verteilt, die um die Punkte (-1, -1), (-1, 1), (1, -1), (1, 1) zentriert sind"
   ]
  },
  {
   "cell_type": "code",
   "execution_count": null,
   "metadata": {
    "scrolled": true
   },
   "outputs": [],
   "source": [
    "n = 100\n",
    "\n",
    "data = np.concatenate(\n",
    "    [np.random.multivariate_normal([x, y], np.diag([.1, .1]), size=n)\n",
    "     for x in [-1, 1]\n",
    "     for y in [-1, 1]]\n",
    ")"
   ]
  },
  {
   "cell_type": "code",
   "execution_count": null,
   "metadata": {},
   "outputs": [],
   "source": [
    "df = pd.DataFrame(data, columns=['x', 'y'])\n",
    "_ = df.plot(kind='scatter', x='x', y='y', s=40, figsize=(6, 6))"
   ]
  },
  {
   "cell_type": "markdown",
   "metadata": {},
   "source": []
  },
  {
   "cell_type": "markdown",
   "metadata": {},
   "source": [
    "### Clustering mit k-Means"
   ]
  },
  {
   "cell_type": "markdown",
   "metadata": {},
   "source": [
    "Wir betrachten nun, welche Cluster das populäre k-Means-Verfahren identifiziert. Den Parameter k stellen wir über einen Schieberegler ein."
   ]
  },
  {
   "cell_type": "code",
   "execution_count": null,
   "metadata": {},
   "outputs": [],
   "source": [
    "def fit_and_plot_clustering(df, clusterer, print_number=False):\n",
    "    df = df.copy()\n",
    "    df['clusterid'] = clusterer.fit_predict(df[['x', 'y']])\n",
    "    n_clusters = df['clusterid'].max() + 1\n",
    "    n_outliers = np.sum(df['clusterid'] == -1)\n",
    "    if print_number:\n",
    "        print(f'number of clusters: {n_clusters}\\nnumber of outliers: {n_outliers}')\n",
    "    cmap = plt.get_cmap('Set1', n_clusters+1)\n",
    "    ax = df.plot(kind='scatter', x='x', y='y', c='clusterid', cmap=cmap, s=40, colorbar=False, figsize=(6, 6))\n",
    "    ax.grid()\n",
    "\n",
    "def plot_kmeans(k = 3):\n",
    "    kmeans = KMeans(n_clusters=k)\n",
    "    fit_and_plot_clustering(df, clusterer=kmeans)\n",
    "\n",
    "\n",
    "_ = interact(\n",
    "    plot_kmeans,\n",
    "    k=widgets.SelectionSlider(\n",
    "        options=range(1,10),\n",
    "        layout=layout,\n",
    "        style=style,\n",
    "        description='Number of clusters (k)',\n",
    "        orientation='horizontal'\n",
    "    )\n",
    ")"
   ]
  },
  {
   "cell_type": "markdown",
   "metadata": {},
   "source": [
    "Wir berechnen nun die zugehörige Silhouetten-Kurve. Wie man sehen kann, wird der höchste Wert bei 4, also der korrekten Anzahl der Cluster, erreicht."
   ]
  },
  {
   "cell_type": "code",
   "execution_count": null,
   "metadata": {},
   "outputs": [],
   "source": [
    "sil_values = []\n",
    "for k in range(2,20):\n",
    "    kmeans = KMeans(n_clusters=k)\n",
    "    clust = kmeans.fit_predict(df[['x', 'y']])\n",
    "    sil_values.append(silhouette_score(df[['x', 'y']], clust))\n",
    "\n",
    "fig, ax = plt.subplots()\n",
    "ax.plot(range(2,20),sil_values)\n",
    "ax.set_xlabel('k')\n",
    "ax.set_xticks(range(2, 20, 2))\n",
    "ax.set_ylabel('Silhouette value');"
   ]
  },
  {
   "cell_type": "code",
   "execution_count": null,
   "metadata": {},
   "outputs": [],
   "source": []
  },
  {
   "cell_type": "markdown",
   "metadata": {},
   "source": [
    "## Iris-Datenset"
   ]
  },
  {
   "cell_type": "markdown",
   "metadata": {},
   "source": [
    "Als nächstes überprüfen wir die Funktionsweise von k-Means an einem echten Datensatz, dem berühmten Iris-Datensatz von Ronald Fisher (https://en.wikipedia.org/wiki/Iris_flower_data_set). Hierbei handelt es sich um Messungen von Blättern für unterschiedliche Arten aus der Gattung Iris (Schwertlilien).\n",
    "\n",
    "Dieses wird zuerst aus der Datei \"iris.csv\" eingelesen und dann visualisiert. Dabei sind auf der X-Achse die Breite der Kelchblätter und auf der Y-Achse die Länge der Blütenblätter aufgetragen."
   ]
  },
  {
   "cell_type": "code",
   "execution_count": null,
   "metadata": {},
   "outputs": [],
   "source": [
    "dataset_path = os.environ['DATASET_PATH']\n",
    "df = pd.read_csv(dataset_path + '/Iris/iris.csv'). \\\n",
    "        rename({'sepal width (cm)': 'x', 'petal length (cm)': 'y'}, axis=1)\n",
    "_ = df.plot(kind='scatter', x='x', y='y', s=40, figsize=(6, 6))"
   ]
  },
  {
   "cell_type": "markdown",
   "metadata": {},
   "source": [
    "### Clustering mit k-Means"
   ]
  },
  {
   "cell_type": "code",
   "execution_count": null,
   "metadata": {},
   "outputs": [],
   "source": [
    "_ = interact(\n",
    "    plot_kmeans,\n",
    "    k=widgets.SelectionSlider(\n",
    "        options=range(1, 10),\n",
    "        description='Number of clusters (k)',\n",
    "        layout=layout,\n",
    "        style=style,\n",
    "        orientation='horizontal'\n",
    "    )\n",
    ")"
   ]
  },
  {
   "cell_type": "markdown",
   "metadata": {},
   "source": [
    "Auch hier erzeugen wir ein Silhouetten-Bild. Das Maximum liegt hier bei zwei Clustern. Dieser Wert scheint auf Basis der Daten auch visuell plausibel."
   ]
  },
  {
   "cell_type": "code",
   "execution_count": null,
   "metadata": {},
   "outputs": [],
   "source": [
    "sil_values = []\n",
    "for k in range(2,20):\n",
    "    kmeans = KMeans(n_clusters=k)\n",
    "    clust = kmeans.fit_predict(df[['x', 'y']])\n",
    "    sil_values.append(silhouette_score(df[['x', 'y']], clust))\n",
    "\n",
    "fig, ax = plt.subplots()\n",
    "ax.plot(range(2,20),sil_values)\n",
    "ax.set_xlabel('k')\n",
    "ax.set_xticks(range(2,20, 2))\n",
    "ax.set_ylabel('Silhouette value');"
   ]
  },
  {
   "cell_type": "code",
   "execution_count": null,
   "metadata": {},
   "outputs": [],
   "source": []
  },
  {
   "cell_type": "markdown",
   "metadata": {},
   "source": [
    "## Die Auflösung"
   ]
  },
  {
   "cell_type": "markdown",
   "metadata": {},
   "source": [
    "Tatsächlich entstammen die Daten jedoch *drei* verschiedenen Arten. Dies sehen wir, wenn wir die Spalte mit der Art hinzunehmen und die Punkte farbig kennzeichnen. Man sieht, dass die rote Art gut getrennt ist, jedoch die organene und graue Art ineinander übergehen. Diese Schwierigkeit bei der Separierung ist in der Praxis häufig anzutreffen."
   ]
  },
  {
   "cell_type": "code",
   "execution_count": null,
   "metadata": {},
   "outputs": [],
   "source": [
    "_ = df.plot(kind='scatter',\n",
    "            x='x',\n",
    "            y='y',\n",
    "            s=40,\n",
    "            c='class',\n",
    "            cmap=plt.get_cmap('Set1'),\n",
    "            colorbar=False,\n",
    "            figsize=(6, 6)\n",
    "           )"
   ]
  },
  {
   "cell_type": "code",
   "execution_count": null,
   "metadata": {},
   "outputs": [],
   "source": []
  }
 ],
 "metadata": {
  "kernelspec": {
   "display_name": "Python 3",
   "language": "python",
   "name": "python3"
  },
  "language_info": {
   "codemirror_mode": {
    "name": "ipython",
    "version": 3
   },
   "file_extension": ".py",
   "mimetype": "text/x-python",
   "name": "python",
   "nbconvert_exporter": "python",
   "pygments_lexer": "ipython3",
   "version": "3.8.5"
  }
 },
 "nbformat": 4,
 "nbformat_minor": 4
}
